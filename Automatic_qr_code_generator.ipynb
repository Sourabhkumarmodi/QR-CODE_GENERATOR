{
 "cells": [
  {
   "cell_type": "code",
   "execution_count": 1,
   "id": "ed116617",
   "metadata": {},
   "outputs": [
    {
     "name": "stdout",
     "output_type": "stream",
     "text": [
      "Defaulting to user installation because normal site-packages is not writeable\n",
      "Requirement already satisfied: qrcode in c:\\users\\saurabh\\appdata\\roaming\\python\\python39\\site-packages (7.4.2)\n",
      "Requirement already satisfied: pypng in c:\\users\\saurabh\\appdata\\roaming\\python\\python39\\site-packages (from qrcode) (0.20220715.0)\n",
      "Requirement already satisfied: colorama in c:\\programdata\\anaconda3\\lib\\site-packages (from qrcode) (0.4.5)\n",
      "Requirement already satisfied: typing-extensions in c:\\programdata\\anaconda3\\lib\\site-packages (from qrcode) (4.3.0)\n"
     ]
    }
   ],
   "source": [
    "!pip install qrcode"
   ]
  },
  {
   "cell_type": "code",
   "execution_count": 2,
   "id": "2310fcbb",
   "metadata": {},
   "outputs": [],
   "source": [
    "import qrcode as qr"
   ]
  },
  {
   "cell_type": "code",
   "execution_count": 3,
   "id": "db4b95a3",
   "metadata": {},
   "outputs": [],
   "source": [
    "img=qr.make(\"https://www.linkedin.com/in/sourabh-kumar-501495214\")"
   ]
  },
  {
   "cell_type": "code",
   "execution_count": 9,
   "id": "7938e0b7",
   "metadata": {},
   "outputs": [],
   "source": [
    "img.save(\"Sourabh_linkedin_profile.png\")"
   ]
  },
  {
   "cell_type": "code",
   "execution_count": 10,
   "id": "753c5c99",
   "metadata": {},
   "outputs": [],
   "source": [
    "new_profile_github=qr.make(\"https://github.com/settings/profile\")"
   ]
  },
  {
   "cell_type": "code",
   "execution_count": 11,
   "id": "00538b81",
   "metadata": {},
   "outputs": [],
   "source": [
    "new_profile_github.save(\"sourabh_github.png\")"
   ]
  },
  {
   "cell_type": "code",
   "execution_count": null,
   "id": "e75a2ed3",
   "metadata": {},
   "outputs": [],
   "source": []
  }
 ],
 "metadata": {
  "kernelspec": {
   "display_name": "Python 3 (ipykernel)",
   "language": "python",
   "name": "python3"
  },
  "language_info": {
   "codemirror_mode": {
    "name": "ipython",
    "version": 3
   },
   "file_extension": ".py",
   "mimetype": "text/x-python",
   "name": "python",
   "nbconvert_exporter": "python",
   "pygments_lexer": "ipython3",
   "version": "3.9.13"
  }
 },
 "nbformat": 4,
 "nbformat_minor": 5
}
