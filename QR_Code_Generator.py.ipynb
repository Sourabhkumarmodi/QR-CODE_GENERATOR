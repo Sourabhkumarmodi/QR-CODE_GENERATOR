{
 "cells": [
  {
   "cell_type": "code",
   "execution_count": 1,
   "id": "1614708a",
   "metadata": {},
   "outputs": [
    {
     "name": "stdout",
     "output_type": "stream",
     "text": [
      "Collecting qrcodeNote: you may need to restart the kernel to use updated packages.\n",
      "\n",
      "  Downloading qrcode-7.3.1.tar.gz (43 kB)\n",
      "Requirement already satisfied: colorama in c:\\users\\hp\\anaconda3\\lib\\site-packages (from qrcode) (0.4.4)\n",
      "Building wheels for collected packages: qrcode\n",
      "  Building wheel for qrcode (setup.py): started\n",
      "  Building wheel for qrcode (setup.py): finished with status 'done'\n",
      "  Created wheel for qrcode: filename=qrcode-7.3.1-py3-none-any.whl size=40385 sha256=7d4f2d7b7a39db505668dd8595170553d50adcf3d7196b827d35498fd5b021a7\n",
      "  Stored in directory: c:\\users\\hp\\appdata\\local\\pip\\cache\\wheels\\35\\fd\\04\\2768886c56207acee0d6dc6b9bd5d06dac63a810f0c0a42516\n",
      "Successfully built qrcode\n",
      "Installing collected packages: qrcode\n",
      "Successfully installed qrcode-7.3.1\n"
     ]
    }
   ],
   "source": [
    "#pip install qrcode"
   ]
  },
  {
   "cell_type": "code",
   "execution_count": 3,
   "id": "0bb04d9e",
   "metadata": {},
   "outputs": [],
   "source": [
    "import qrcode as qr"
   ]
  },
  {
   "cell_type": "code",
   "execution_count": 4,
   "id": "2ac0a26d",
   "metadata": {},
   "outputs": [],
   "source": [
    "img=qr.make(\"https://www.youtube.com/c/wscubetechjodhpur\")"
   ]
  },
  {
   "cell_type": "code",
   "execution_count": 5,
   "id": "b0553c55",
   "metadata": {},
   "outputs": [],
   "source": [
    "img.save(\"wscube_youtube.png\")"
   ]
  },
  {
   "cell_type": "code",
   "execution_count": 6,
   "id": "c6f80402",
   "metadata": {},
   "outputs": [],
   "source": [
    "img1=qr.make(\"https://www.linkedin.com/in/durgesh-rao\")"
   ]
  },
  {
   "cell_type": "code",
   "execution_count": 7,
   "id": "7cee5703",
   "metadata": {},
   "outputs": [],
   "source": [
    "img1.save(\"Durgesh_linkedin_profile.png\")"
   ]
  },
  {
   "cell_type": "code",
   "execution_count": 8,
   "id": "58cb4689",
   "metadata": {},
   "outputs": [],
   "source": [
    "img2=qr.make(\"https://github.com/settings/profile\")"
   ]
  },
  {
   "cell_type": "code",
   "execution_count": 10,
   "id": "b88424b2",
   "metadata": {},
   "outputs": [],
   "source": [
    "img2.save(\"sourabh_github.png\")"
   ]
  },
  {
   "cell_type": "code",
   "execution_count": null,
   "id": "ead39fc5",
   "metadata": {},
   "outputs": [],
   "source": []
  }
 ],
 "metadata": {
  "kernelspec": {
   "display_name": "Python 3",
   "language": "python",
   "name": "python3"
  },
  "language_info": {
   "codemirror_mode": {
    "name": "ipython",
    "version": 3
   },
   "file_extension": ".py",
   "mimetype": "text/x-python",
   "name": "python",
   "nbconvert_exporter": "python",
   "pygments_lexer": "ipython3",
   "version": "3.8.8"
  }
 },
 "nbformat": 4,
 "nbformat_minor": 5
}
